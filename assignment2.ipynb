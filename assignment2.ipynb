{
 "cells": [
  {
   "cell_type": "code",
   "execution_count": 1,
   "metadata": {},
   "outputs": [],
   "source": [
    "import numpy as np"
   ]
  },
  {
   "cell_type": "markdown",
   "metadata": {},
   "source": [
    "Creating Arrays:\n",
    "\n",
    "    Create a one-dimensional array of integers from 0 to 9.\n",
    "    Create a two-dimensional array of zeros with shape (5, 5).\n",
    "    Create a three-dimensional array of ones with shape (2, 3, 4).\n"
   ]
  },
  {
   "cell_type": "code",
   "execution_count": 20,
   "metadata": {},
   "outputs": [
    {
     "name": "stdout",
     "output_type": "stream",
     "text": [
      "[0 1 2 3 4 5 6 7 8 9]\n",
      "[[0. 0. 0. 0. 0.]\n",
      " [0. 0. 0. 0. 0.]\n",
      " [0. 0. 0. 0. 0.]\n",
      " [0. 0. 0. 0. 0.]\n",
      " [0. 0. 0. 0. 0.]]\n",
      "[[[1. 1. 1. 1.]\n",
      "  [1. 1. 1. 1.]\n",
      "  [1. 1. 1. 1.]]\n",
      "\n",
      " [[1. 1. 1. 1.]\n",
      "  [1. 1. 1. 1.]\n",
      "  [1. 1. 1. 1.]]]\n"
     ]
    }
   ],
   "source": [
    "#first = np.array([0,1,2,3,4,5,6,7,8,9])\n",
    "# alternative below:\n",
    "first = np.arange(10)\n",
    "print(first)\n",
    "second = np.zeros((5,5))\n",
    "print(second)\n",
    "third = np.ones((2,3,4))\n",
    "print(third)"
   ]
  },
  {
   "cell_type": "markdown",
   "metadata": {},
   "source": [
    "Manipulating Arrays:\n",
    "\n",
    "    Reshape the above two-dimensional array to a one-dimensional array.\n",
    "    Stack two arrays horizontally and vertically.\n",
    "    Split a given array into multiple sub-arrays.\n",
    "    Flatten a multi-dimensional array.\n",
    "    Expand the dimensions of a one-dimensional array.\n"
   ]
  },
  {
   "cell_type": "code",
   "execution_count": 18,
   "metadata": {},
   "outputs": [
    {
     "name": "stdout",
     "output_type": "stream",
     "text": [
      "1\n",
      "[0. 0. 0. 0. 0. 0. 0. 0. 0. 0. 0. 0. 0. 0. 0. 0. 0. 0. 0. 0. 0. 0. 0. 0.\n",
      " 0.]\n",
      "2\n",
      "[[0. 0. 0.]\n",
      " [0. 0. 0.]\n",
      " [1. 1. 1.]\n",
      " [1. 1. 1.]]\n",
      "[[0. 0. 0. 1. 1. 1.]\n",
      " [0. 0. 0. 1. 1. 1.]]\n",
      "3\n",
      "[array([[1., 1., 1.]]), array([[1., 1., 1.]])]\n",
      "4\n",
      "[1. 1. 1. 1. 1. 1.]\n",
      "(6,)\n",
      "5\n",
      "(1, 6)\n",
      "[[1. 1. 1. 1. 1. 1.]]\n"
     ]
    }
   ],
   "source": [
    "secondres = np.reshape(second,(25))\n",
    "print(1)\n",
    "print(secondres)\n",
    "combo1 = np.ones((2,3))\n",
    "combo0 = np.zeros((2,3))\n",
    "vertstack = np.vstack((combo0,combo1))\n",
    "horstack = np.hstack((combo0,combo1))\n",
    "print(2)\n",
    "print(vertstack)\n",
    "print(horstack)\n",
    "\n",
    "zplit = np.split(combo1,2)\n",
    "print(3)\n",
    "print(zplit)\n",
    "flatray = combo1.flatten()\n",
    "print(4)\n",
    "print(flatray)\n",
    "print(flatray.shape)\n",
    "expray =  np.expand_dims(flatray,0)\n",
    "print(5)\n",
    "print(expray.shape)\n",
    "print(expray)"
   ]
  },
  {
   "cell_type": "markdown",
   "metadata": {},
   "source": [
    "Array Indexing:\n",
    "\n",
    "    Extract the third and fifth elements from a one-dimensional array.\n",
    "    Extract a 2x2 sub-matrix from a given two-dimensional array.\n",
    "    Use boolean indexing to extract even numbers from an array.\n"
   ]
  },
  {
   "cell_type": "code",
   "execution_count": 29,
   "metadata": {},
   "outputs": [
    {
     "name": "stdout",
     "output_type": "stream",
     "text": [
      "3\n",
      "5\n",
      "Original Array:\n",
      "[[ 1  2  3  4  5]\n",
      " [ 6  7  8  9 10]]\n",
      "\n",
      "Even Numbers:\n",
      "[ 2  4  6  8 10]\n"
     ]
    }
   ],
   "source": [
    "first = np.arange(10)\n",
    "element3 = first[3]\n",
    "element5 = first[5]\n",
    "print(element3)\n",
    "print(element5)\n",
    "#sample array:\n",
    "second = np.arange(10).reshape(2,5)\n",
    "def yoinksubarray(arr,startr,startc):\n",
    "    subarray = arr[startr:startr+2,startc:startc+2]\n",
    "    return subarray\n",
    "#sample of function:\n",
    "yoinksubarray(second,0,2)\n",
    "\n",
    "\n",
    "# Example array\n",
    "third = np.array([[1, 2, 3, 4, 5],[ 6, 7, 8, 9, 10]])\n",
    "\n",
    "# Boolean indexing to extract even numbers\n",
    "even_numbers = third[third % 2 == 0]\n",
    "\n",
    "print(\"Original Array:\")\n",
    "print(third)\n",
    "print(\"\\nEven Numbers:\")\n",
    "print(even_numbers)"
   ]
  },
  {
   "cell_type": "markdown",
   "metadata": {},
   "source": [
    "Arithmetic Operations:\n",
    "\n",
    "    Perform element-wise addition, subtraction, multiplication, and division on two given arrays.\n",
    "    Multiply a 2x3 matrix with a 1x3 matrix using broadcasting.\n"
   ]
  },
  {
   "cell_type": "code",
   "execution_count": null,
   "metadata": {},
   "outputs": [],
   "source": []
  },
  {
   "cell_type": "markdown",
   "metadata": {},
   "source": [
    "Aggregation Functions:\n",
    "\n",
    "    Calculate the sum, mean, standard deviation, and variance of a one-dimensional array.\n",
    "    Find the minimum and maximum values in a one-dimensional array.\n",
    "    Repeat (a) and (b) along a single axis of a two-dimensional array.\n"
   ]
  },
  {
   "cell_type": "code",
   "execution_count": null,
   "metadata": {},
   "outputs": [],
   "source": []
  },
  {
   "cell_type": "markdown",
   "metadata": {},
   "source": [
    "Linear Algebra:\n",
    "\n",
    "    Transpose a matrix\n",
    "    Multiply two matrices.\n",
    "    Compute the dot product of two vectors.\n",
    "    Calculate the determinant of a matrix.\n",
    "    Compute the eigenvalues and eigenvectors of a matrix.\n",
    "    Solve a system of linear equations using NumPy.\n"
   ]
  },
  {
   "cell_type": "code",
   "execution_count": null,
   "metadata": {},
   "outputs": [],
   "source": []
  },
  {
   "cell_type": "markdown",
   "metadata": {},
   "source": [
    "Simulation:\n",
    "\n",
    "    Simulate 100 steps of a random walk with standard normal innovations.\n",
    "    Generate 1,000 simulations of the random walk from part (a). Compute the mean, median, and standard deviation of the terminal value across the 1,000 simulations.\n"
   ]
  },
  {
   "cell_type": "code",
   "execution_count": null,
   "metadata": {},
   "outputs": [],
   "source": []
  }
 ],
 "metadata": {
  "kernelspec": {
   "display_name": ".venv",
   "language": "python",
   "name": "python3"
  },
  "language_info": {
   "codemirror_mode": {
    "name": "ipython",
    "version": 3
   },
   "file_extension": ".py",
   "mimetype": "text/x-python",
   "name": "python",
   "nbconvert_exporter": "python",
   "pygments_lexer": "ipython3",
   "version": "3.10.11"
  },
  "orig_nbformat": 4
 },
 "nbformat": 4,
 "nbformat_minor": 2
}
