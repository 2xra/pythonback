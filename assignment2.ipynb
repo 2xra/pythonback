{
 "cells": [
  {
   "cell_type": "code",
   "execution_count": 2,
   "metadata": {},
   "outputs": [],
   "source": [
    "import numpy as np\n",
    "import math"
   ]
  },
  {
   "cell_type": "markdown",
   "metadata": {},
   "source": [
    "Creating Arrays:\n",
    "\n",
    "    Create a one-dimensional array of integers from 0 to 9.\n",
    "    Create a two-dimensional array of zeros with shape (5, 5).\n",
    "    Create a three-dimensional array of ones with shape (2, 3, 4).\n"
   ]
  },
  {
   "cell_type": "code",
   "execution_count": 20,
   "metadata": {},
   "outputs": [
    {
     "name": "stdout",
     "output_type": "stream",
     "text": [
      "[0 1 2 3 4 5 6 7 8 9]\n",
      "[[0. 0. 0. 0. 0.]\n",
      " [0. 0. 0. 0. 0.]\n",
      " [0. 0. 0. 0. 0.]\n",
      " [0. 0. 0. 0. 0.]\n",
      " [0. 0. 0. 0. 0.]]\n",
      "[[[1. 1. 1. 1.]\n",
      "  [1. 1. 1. 1.]\n",
      "  [1. 1. 1. 1.]]\n",
      "\n",
      " [[1. 1. 1. 1.]\n",
      "  [1. 1. 1. 1.]\n",
      "  [1. 1. 1. 1.]]]\n"
     ]
    }
   ],
   "source": [
    "#first = np.array([0,1,2,3,4,5,6,7,8,9])\n",
    "# alternative below:\n",
    "first = np.arange(10)\n",
    "print(first)\n",
    "second = np.zeros((5,5))\n",
    "print(second)\n",
    "third = np.ones((2,3,4))\n",
    "print(third)"
   ]
  },
  {
   "cell_type": "markdown",
   "metadata": {},
   "source": [
    "Manipulating Arrays:\n",
    "\n",
    "    Reshape the above two-dimensional array to a one-dimensional array.\n",
    "    Stack two arrays horizontally and vertically.\n",
    "    Split a given array into multiple sub-arrays.\n",
    "    Flatten a multi-dimensional array.\n",
    "    Expand the dimensions of a one-dimensional array.\n"
   ]
  },
  {
   "cell_type": "code",
   "execution_count": 18,
   "metadata": {},
   "outputs": [
    {
     "name": "stdout",
     "output_type": "stream",
     "text": [
      "1\n",
      "[0. 0. 0. 0. 0. 0. 0. 0. 0. 0. 0. 0. 0. 0. 0. 0. 0. 0. 0. 0. 0. 0. 0. 0.\n",
      " 0.]\n",
      "2\n",
      "[[0. 0. 0.]\n",
      " [0. 0. 0.]\n",
      " [1. 1. 1.]\n",
      " [1. 1. 1.]]\n",
      "[[0. 0. 0. 1. 1. 1.]\n",
      " [0. 0. 0. 1. 1. 1.]]\n",
      "3\n",
      "[array([[1., 1., 1.]]), array([[1., 1., 1.]])]\n",
      "4\n",
      "[1. 1. 1. 1. 1. 1.]\n",
      "(6,)\n",
      "5\n",
      "(1, 6)\n",
      "[[1. 1. 1. 1. 1. 1.]]\n"
     ]
    }
   ],
   "source": [
    "secondres = np.reshape(second,(25))\n",
    "print(1)\n",
    "print(secondres)\n",
    "combo1 = np.ones((2,3))\n",
    "combo0 = np.zeros((2,3))\n",
    "vertstack = np.vstack((combo0,combo1))\n",
    "horstack = np.hstack((combo0,combo1))\n",
    "print(2)\n",
    "print(vertstack)\n",
    "print(horstack)\n",
    "\n",
    "zplit = np.split(combo1,2)\n",
    "print(3)\n",
    "print(zplit)\n",
    "flatray = combo1.flatten()\n",
    "print(4)\n",
    "print(flatray)\n",
    "print(flatray.shape)\n",
    "expray =  np.expand_dims(flatray,0)\n",
    "print(5)\n",
    "print(expray.shape)\n",
    "print(expray)"
   ]
  },
  {
   "cell_type": "markdown",
   "metadata": {},
   "source": [
    "Array Indexing:\n",
    "\n",
    "    Extract the third and fifth elements from a one-dimensional array.\n",
    "    Extract a 2x2 sub-matrix from a given two-dimensional array.\n",
    "    Use boolean indexing to extract even numbers from an array.\n"
   ]
  },
  {
   "cell_type": "code",
   "execution_count": 29,
   "metadata": {},
   "outputs": [
    {
     "name": "stdout",
     "output_type": "stream",
     "text": [
      "3\n",
      "5\n",
      "Original Array:\n",
      "[[ 1  2  3  4  5]\n",
      " [ 6  7  8  9 10]]\n",
      "\n",
      "Even Numbers:\n",
      "[ 2  4  6  8 10]\n"
     ]
    }
   ],
   "source": [
    "first = np.arange(10)\n",
    "element3 = first[3]\n",
    "element5 = first[5]\n",
    "print(element3)\n",
    "print(element5)\n",
    "#sample array:\n",
    "second = np.arange(10).reshape(2,5)\n",
    "def yoinksubarray(arr,startr,startc):\n",
    "    subarray = arr[startr:startr+2,startc:startc+2]\n",
    "    return subarray\n",
    "#sample of function:\n",
    "yoinksubarray(second,0,2)\n",
    "\n",
    "\n",
    "# Example array\n",
    "third = np.array([[1, 2, 3, 4, 5],[ 6, 7, 8, 9, 10]])\n",
    "\n",
    "# Boolean indexing to extract even numbers\n",
    "even_numbers = third[third % 2 == 0]\n",
    "\n",
    "print(\"Original Array:\")\n",
    "print(third)\n",
    "print(\"\\nEven Numbers:\")\n",
    "print(even_numbers)"
   ]
  },
  {
   "cell_type": "markdown",
   "metadata": {},
   "source": [
    "Arithmetic Operations:\n",
    "\n",
    "    Perform element-wise addition, subtraction, multiplication, and division on two given arrays.\n",
    "    Multiply a 2x3 matrix with a 1x3 matrix using broadcasting.\n"
   ]
  },
  {
   "cell_type": "code",
   "execution_count": 40,
   "metadata": {},
   "outputs": [
    {
     "name": "stdout",
     "output_type": "stream",
     "text": [
      "[ 0  2  4  6  8 10 12 14 16 18]\n",
      "[0 0 0 0 0 0 0 0 0 0]\n",
      "[[ 0  1  4]\n",
      " [ 0  4 10]]\n",
      "[[0.         0.5        0.66666667]\n",
      " [3.         2.         1.66666667]]\n",
      "[[ 0.  1.  4.]\n",
      " [ 0.  4. 10.]]\n"
     ]
    }
   ],
   "source": [
    "def adder(x,y):\n",
    "    z=x + y\n",
    "    print(z)\n",
    "\n",
    "x1 = np.arange(10)\n",
    "y1 = x1\n",
    "adder(x1,y1)\n",
    "def subber(x,y):\n",
    "    z=x - y\n",
    "    print(z)\n",
    "\n",
    "subber(x1,y1)\n",
    "\n",
    "def multer(x,y):\n",
    "    z = np.multiply(x,y)\n",
    "    print(z)\n",
    "\n",
    "x2 = np.arange(6).reshape(2,3)\n",
    "y2 = np.arange(3)\n",
    "multer(x2,y2)\n",
    "\n",
    "def divver(x,y):\n",
    "    z= np.divide(x,y)\n",
    "    print(z)\n",
    "\n",
    "y3 = np.array([1,2,3])\n",
    "\n",
    "divver(x2,y3)\n",
    "\n",
    "#last bit about broadcasting\n",
    "z1 = np.broadcast(x2,y2)\n",
    "out = np.empty(z1.shape)\n",
    "out.flat = [u*v for (u,v) in z1]\n",
    "print(out)"
   ]
  },
  {
   "cell_type": "markdown",
   "metadata": {},
   "source": [
    "Aggregation Functions:\n",
    "\n",
    "    Calculate the sum, mean, standard deviation, and variance of a one-dimensional array.\n",
    "    Find the minimum and maximum values in a one-dimensional array.\n",
    "    Repeat (a) and (b) along a single axis of a two-dimensional array.\n"
   ]
  },
  {
   "cell_type": "code",
   "execution_count": 49,
   "metadata": {},
   "outputs": [
    {
     "name": "stdout",
     "output_type": "stream",
     "text": [
      "sum: 45\n",
      "mean: 4.5\n",
      "stdev: 2.8722813232690143\n",
      "variance: 8.25\n",
      "min: 0\n",
      "max: 9\n",
      "[[ 0  1  2  3  4]\n",
      " [ 5  6  7  8  9]\n",
      " [10 11 12 13 14]\n",
      " [15 16 17 18 19]\n",
      " [20 21 22 23 24]]\n",
      "checking with row 1\n",
      "sum: 35\n",
      "mean: 7.0\n",
      "stdev: 1.4142135623730951\n",
      "variance: 2.0\n",
      "min: 5\n",
      "max: 9\n"
     ]
    }
   ],
   "source": [
    "#a1\n",
    "testarray = np.arange(10)\n",
    "testsu = np.sum(testarray)\n",
    "testme = np.mean(testarray)\n",
    "testst = np.std(testarray)\n",
    "testva = np.var(testarray)\n",
    "\n",
    "print(\"sum: \"+str(testsu))\n",
    "print(\"mean: \"+str(testme))\n",
    "print(\"stdev: \"+str(testst))\n",
    "print(\"variance: \"+str(testva))\n",
    "\n",
    "#b1\n",
    "\n",
    "print(\"min: \"+str(np.min(testarray)))\n",
    "print(\"max: \"+str(np.max(testarray)))\n",
    "\n",
    "\n",
    "#a2\n",
    "practice_matrix = np.arange(25).reshape(5,5)\n",
    "print(practice_matrix)\n",
    "\n",
    "def MathForOneRow(x):\n",
    "    testsu1 = np.sum(practice_matrix[x])\n",
    "    testme1 = np.mean(practice_matrix[x])\n",
    "    testst1 = np.std(practice_matrix[x])\n",
    "    testva1 = np.var(practice_matrix[x])\n",
    "    #a\n",
    "    print(\"sum: \"+str(testsu1))\n",
    "    print(\"mean: \"+str(testme1))\n",
    "    print(\"stdev: \"+str(testst1))\n",
    "    print(\"variance: \"+str(testva1))\n",
    "\n",
    "    #b\n",
    "    print(\"min: \"+str(np.min(practice_matrix[x])))\n",
    "    print(\"max: \"+str(np.max(practice_matrix[x])))\n",
    "\n",
    "\n",
    "\n",
    "print(\"checking with row 1\")\n",
    "MathForOneRow(1)\n"
   ]
  },
  {
   "cell_type": "markdown",
   "metadata": {},
   "source": [
    "Linear Algebra:\n",
    "\n",
    "    Transpose a matrix\n",
    "    Multiply two matrices.\n",
    "    Compute the dot product of two vectors.\n",
    "    Calculate the determinant of a matrix.\n",
    "    Compute the eigenvalues and eigenvectors of a matrix.\n",
    "    Solve a system of linear equations using NumPy.\n"
   ]
  },
  {
   "cell_type": "code",
   "execution_count": 57,
   "metadata": {},
   "outputs": [
    {
     "name": "stdout",
     "output_type": "stream",
     "text": [
      "[[0 1 2]\n",
      " [3 4 5]\n",
      " [6 7 8]]\n",
      "[[0 3 6]\n",
      " [1 4 7]\n",
      " [2 5 8]]\n",
      "[[  5  14  23]\n",
      " [ 14  50  86]\n",
      " [ 23  86 149]]\n",
      "58\n",
      "12.0\n",
      "EigResult(eigenvalues=array([3., 4.]), eigenvectors=array([[1., 0.],\n",
      "       [0., 1.]]))\n",
      "the solution set to :\n",
      "5x+3y=1;x+2y=2\n",
      "[[-0.57142857]\n",
      " [ 1.28571429]]\n"
     ]
    }
   ],
   "source": [
    "practice_matrix = np.arange(9).reshape(3,3)\n",
    "testtrans = practice_matrix.transpose()\n",
    "print(practice_matrix)\n",
    "print(testtrans)\n",
    "\n",
    "multpractice = np.matmul(practice_matrix,testtrans)\n",
    "print(multpractice)\n",
    "\n",
    "vec1 = np.arange(4)\n",
    "vec2 = np.array([5,7,9,11])\n",
    "dotprod = np.dot(vec1,vec2)\n",
    "print(dotprod)\n",
    "\n",
    "\n",
    "detpractice = np.array([[3,0],[0,4]])\n",
    "testdet = np.linalg.det(detpractice)\n",
    "print(testdet)\n",
    "\n",
    "testeig = np.linalg.eig(detpractice)\n",
    "print(testeig)\n",
    "\n",
    "testind = np.array([[5,3],[1,2]])\n",
    "testdep = np.array([[1],[2]])\n",
    "print(\"the solution set to :\")\n",
    "print(\"5x+3y=1;x+2y=2\")\n",
    "print(np.linalg.solve(testind,testdep))\n",
    "\n",
    "\n"
   ]
  },
  {
   "cell_type": "markdown",
   "metadata": {},
   "source": [
    "Simulation:\n",
    "\n",
    "    Simulate 100 steps of a random walk with standard normal innovations.\n",
    "    Generate 1,000 simulations of the random walk from part (a). Compute the mean, median, and standard deviation of the terminal value across the 1,000 simulations.\n"
   ]
  },
  {
   "cell_type": "code",
   "execution_count": 22,
   "metadata": {},
   "outputs": [
    {
     "name": "stdout",
     "output_type": "stream",
     "text": [
      "mean:0.35275045592390175\n",
      "median:0.34422779598178777\n",
      "SD:10.051796852389641\n",
      "GPT Says : Mean of terminal values: -0.5403\n",
      "GPT Says : Median of terminal values: -0.4263\n",
      "GPT Says : Standard Deviation of terminal values: 10.0300\n"
     ]
    }
   ],
   "source": [
    "simsample = []\n",
    "BigCount = 0\n",
    "while BigCount < 1000:\n",
    "    smallcount = 0\n",
    "    x=0\n",
    "    while smallcount < 100:\n",
    "        x = x + np.random.normal()\n",
    "        smallcount += 1\n",
    "    simsample.append(x)\n",
    "    BigCount += 1\n",
    "\n",
    "\n",
    "print(\"mean:\"+str(np.mean(simsample)))\n",
    "print(\"median:\"+str(np.median(simsample)))\n",
    "print(\"SD:\"+str(np.std(simsample)))\n",
    "\n",
    "\n",
    "### for giggles, chatGPT's code\n",
    "\n",
    "# Set the number of steps and simulations\n",
    "num_steps = 100\n",
    "num_simulations = 1000\n",
    "\n",
    "# Create an array to store terminal values\n",
    "terminal_values = np.zeros(num_simulations)\n",
    "\n",
    "# Perform simulations\n",
    "for i in range(num_simulations):\n",
    "    # Generate standard normal innovations for each step\n",
    "    innovations = np.random.standard_normal(num_steps)\n",
    "    \n",
    "    # Calculate the cumulative sum to simulate the random walk\n",
    "    random_walk = np.cumsum(innovations)\n",
    "    \n",
    "    # Store the terminal value after 100 steps\n",
    "    terminal_values[i] = random_walk[-1]\n",
    "\n",
    "# Calculate mean, median, and standard deviation of terminal values\n",
    "mean_terminal = np.mean(terminal_values)\n",
    "median_terminal = np.median(terminal_values)\n",
    "std_dev_terminal = np.std(terminal_values)\n",
    "\n",
    "# Print the results\n",
    "print(f\"GPT Says : Mean of terminal values: {mean_terminal:.4f}\")\n",
    "print(f\"GPT Says : Median of terminal values: {median_terminal:.4f}\")\n",
    "print(f\"GPT Says : Standard Deviation of terminal values: {std_dev_terminal:.4f}\")\n"
   ]
  },
  {
   "cell_type": "markdown",
   "metadata": {},
   "source": [
    "    Create a series from a list of integers.\n",
    "    Extract values at specific indices from the Series.\n",
    "    Change the index of the series to alphabetical letters.\n",
    "    Create a dataFrame from a dictionary of lists.\n",
    "    Extract specific columns from the dataFrame.\n",
    "    Add a new column to the dataFrame.\n",
    "    Create a dataframe filled with random numbers.\n"
   ]
  },
  {
   "cell_type": "code",
   "execution_count": null,
   "metadata": {},
   "outputs": [],
   "source": []
  },
  {
   "cell_type": "markdown",
   "metadata": {},
   "source": [
    "\n",
    "    Calculate the summary statistics for a DataFrame column.\n",
    "    Sort the dataFrame based on a specific column.\n",
    "    Filter rows based on certain criteria.\n",
    "    Replace specific values in a DataFrame.\n",
    "    Rename columns.\n",
    "    Map values in a column to other values using a dictionary.\n"
   ]
  },
  {
   "cell_type": "code",
   "execution_count": null,
   "metadata": {},
   "outputs": [],
   "source": []
  },
  {
   "cell_type": "markdown",
   "metadata": {},
   "source": [
    "\n",
    "    Find all missing values in a DataFrame. b Fill missing values with zeros.\n",
    "    Fill missing values in a column with the column’s mean value.\n",
    "    Drop rows with missing data.\n",
    "    Find duplicate rows.\n",
    "    Drop all but the last row in each set of duplicate rows.\n"
   ]
  },
  {
   "cell_type": "code",
   "execution_count": null,
   "metadata": {},
   "outputs": [],
   "source": []
  },
  {
   "cell_type": "markdown",
   "metadata": {},
   "source": [
    "\n",
    "    Using the ‘tips’ dataset, filter the rows where the total bill is greater than $10.\n",
    "    Create a new column in the ‘tips’ dataset called ‘bill_per_person’ which is the total bill divided by the size of the party.\n",
    "    Group by the ‘day’ column and compute the average total bill for each day.\n"
   ]
  },
  {
   "cell_type": "code",
   "execution_count": null,
   "metadata": {},
   "outputs": [],
   "source": []
  }
 ],
 "metadata": {
  "kernelspec": {
   "display_name": ".venv",
   "language": "python",
   "name": "python3"
  },
  "language_info": {
   "codemirror_mode": {
    "name": "ipython",
    "version": 3
   },
   "file_extension": ".py",
   "mimetype": "text/x-python",
   "name": "python",
   "nbconvert_exporter": "python",
   "pygments_lexer": "ipython3",
   "version": "3.10.11"
  },
  "orig_nbformat": 4
 },
 "nbformat": 4,
 "nbformat_minor": 2
}
