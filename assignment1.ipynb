{
 "cells": [
  {
   "cell_type": "code",
   "execution_count": 1,
   "id": "bff5ea37-35bf-4732-a7dc-7f325ebc323b",
   "metadata": {},
   "outputs": [],
   "source": [
    "import numpy as num\n",
    "import os"
   ]
  },
  {
   "cell_type": "markdown",
   "id": "a559d06d-d05b-448b-aa18-e2f46e028634",
   "metadata": {},
   "source": [
    "Create a function that takes the lengths of two sides of a right triangle as inputs and returns the length of the hypotenuse."
   ]
  },
  {
   "cell_type": "code",
   "execution_count": 2,
   "id": "8973f64f-dc9d-43f5-8f8a-fd44157d426a",
   "metadata": {},
   "outputs": [
    {
     "name": "stdout",
     "output_type": "stream",
     "text": [
      "side 1 3\n",
      "side 2 4\n"
     ]
    },
    {
     "name": "stdout",
     "output_type": "stream",
     "text": [
      "the hypotenuse of this triangle is 5.0\n"
     ]
    }
   ],
   "source": [
    "def trianglecheck():\n",
    "    x=float(input(\"side 1\"))\n",
    "    y=float(input(\"side 2\"))\n",
    "    hyp=num.sqrt(num.square(x)+num.square(y))\n",
    "    print(\"the hypotenuse of this triangle is \"+hyp.__str__())\n",
    "\n",
    "trianglecheck()\n"
   ]
  },
  {
   "cell_type": "markdown",
   "id": "3beda9d7-72e2-4f53-9373-351ad85eb682",
   "metadata": {},
   "source": [
    "Create a list of names. Using list enumeration, print the names in the form\n",
    "        1. Adam\n",
    "        2. Bob\n",
    "        3. ...\n",
    "Create a function that takes a list of strings as an input and prints the list as in part (a).\n",
    "Create a function that takes a list of strings as its input and returns a dictionary with integers 1, 2, … as keys and the strings as values."
   ]
  },
  {
   "cell_type": "code",
   "execution_count": 1,
   "id": "84e4f853-4845-4add-aeac-61010020a054",
   "metadata": {},
   "outputs": [
    {
     "name": "stdout",
     "output_type": "stream",
     "text": [
      "1. Reese\n",
      "2. Mert\n",
      "3. Cindy\n",
      "4. Asli\n",
      "5. Ly\n",
      "6. Kerry\n",
      "{1: 'Reese', 2: 'Mert', 3: 'Cindy', 4: 'Asli', 5: 'Ly', 6: 'Kerry'}\n"
     ]
    }
   ],
   "source": [
    "listonames = [\"Reese\",\"Mert\",\"Cindy\",\"Asli\",\"Ly\",\"Kerry\"]\n",
    "\n",
    "def listprinter(x):\n",
    "    for element in x:\n",
    "        print((x.index(element)+1).__str__()+\". \"+element)\n",
    "\n",
    "listprinter(listonames)\n",
    "\n",
    "def listdict(x):\n",
    "    emptydict = {}\n",
    "    for element in x:\n",
    "        emptydict[x.index(element)+1] = element\n",
    "    print(emptydict)\n",
    "\n",
    "listdict(listonames)\n"
   ]
  },
  {
   "cell_type": "markdown",
   "id": "98714f13-12ae-4d94-a908-0a02d6b1398b",
   "metadata": {},
   "source": [
    "Create a list of numbers from 1 to 10.\n",
    "    Write a loop to print only even numbers from the list.\n",
    "    Write another loop to calculate and print the factorial of each number in the list."
   ]
  },
  {
   "cell_type": "code",
   "execution_count": 8,
   "id": "ef1ac012-fea0-4324-aeaa-abacddbfa2e7",
   "metadata": {},
   "outputs": [
    {
     "name": "stdout",
     "output_type": "stream",
     "text": [
      "[1, 2, 3, 4, 5, 6, 7, 8, 9, 10]\n",
      "2\n",
      "4\n",
      "6\n",
      "8\n",
      "10\n",
      "1:1\n",
      "2:2\n",
      "3:6\n",
      "4:24\n",
      "5:120\n",
      "6:720\n",
      "7:5040\n",
      "8:40320\n",
      "9:362880\n",
      "10:3628800\n"
     ]
    }
   ],
   "source": [
    "x = 1\n",
    "listonums = []\n",
    "while x < 11:\n",
    "    listonums.append(x)\n",
    "    x = x+1\n",
    "print(listonums)\n",
    "\n",
    "for elem in listonums:\n",
    "    if elem%2 == 0:\n",
    "        print(elem)\n",
    "for elem in listonums:\n",
    "    fac = 1\n",
    "    temp_elem = elem\n",
    "    while temp_elem>0:\n",
    "        fac = fac*temp_elem\n",
    "        temp_elem = temp_elem-1\n",
    "    print(elem.__str__()+\":\"+fac.__str__())\n",
    "    "
   ]
  },
  {
   "cell_type": "markdown",
   "id": "6cd61902-f80a-4cf9-928a-9668555e4641",
   "metadata": {},
   "source": [
    "Write a loop to halve a given number until the result is less than 1.0e-6."
   ]
  },
  {
   "cell_type": "code",
   "execution_count": 12,
   "id": "d329f204-eb4e-42a4-addb-59670422382f",
   "metadata": {},
   "outputs": [
    {
     "name": "stdout",
     "output_type": "stream",
     "text": [
      "what are we halving? 1\n"
     ]
    },
    {
     "name": "stdout",
     "output_type": "stream",
     "text": [
      "1.0\n",
      "0.5\n",
      "0.25\n",
      "0.125\n",
      "0.0625\n",
      "0.03125\n",
      "0.015625\n",
      "0.0078125\n",
      "0.00390625\n",
      "0.001953125\n",
      "0.0009765625\n",
      "0.00048828125\n",
      "0.000244140625\n",
      "0.0001220703125\n",
      "6.103515625e-05\n",
      "3.0517578125e-05\n",
      "1.52587890625e-05\n",
      "7.62939453125e-06\n",
      "3.814697265625e-06\n",
      "1.9073486328125e-06\n",
      "9.5367431640625e-07\n"
     ]
    }
   ],
   "source": [
    "x = float(input(\"what are we halving?\"))\n",
    "print(x)\n",
    "while x > 1e-6:\n",
    "    x = x/2\n",
    "    print(x)\n",
    "    \n",
    "\n"
   ]
  },
  {
   "cell_type": "markdown",
   "id": "4307af60-eff3-492b-b07b-f794f6857091",
   "metadata": {},
   "source": [
    "Create a function is_palindrome to check if a string is a palindrome (reads the same forwards as backwards – e.g., ‘radar’ is a palindrome). The function should return True if the input is a palindrome and False otherwise."
   ]
  },
  {
   "cell_type": "code",
   "execution_count": 18,
   "id": "c48436ff-d39b-4daa-97ef-c8040a26d48e",
   "metadata": {},
   "outputs": [
    {
     "name": "stdout",
     "output_type": "stream",
     "text": [
      "what are we checking for palindromes? racecar\n"
     ]
    },
    {
     "data": {
      "text/plain": [
       "True"
      ]
     },
     "execution_count": 18,
     "metadata": {},
     "output_type": "execute_result"
    }
   ],
   "source": [
    "def ispalindrome():\n",
    "    palind = input(\"what are we checking for palindromes?\")\n",
    "    for elem in palind:\n",
    "        if elem == palind[-(palind.index(elem)+1)]:\n",
    "            pass\n",
    "        else:\n",
    "            return(False)\n",
    "    return(True)\n",
    "\n",
    "ispalindrome()\n",
    "        "
   ]
  },
  {
   "cell_type": "markdown",
   "id": "1d61afbe-ba0a-4ca4-b1a2-54d93c8c39ef",
   "metadata": {},
   "source": [
    "Write a script (.py file) that prompts the user to input\n",
    "    title\n",
    "    author\n",
    "    journal\n",
    "    volume\n",
    "    pages\n",
    "    year\n",
    "    keyword\n",
    "    pathname of a .bib file\n",
    "The function should then append a bibtex entry to the end of the .bib file formatted as follows, where the items within braces are the user’s inputs.\n",
    "\n",
    "    @article{keyword,\n",
    "    title={title},\n",
    "    author={author names},\n",
    "    journal={journal name},\n",
    "    volume={volume number},\n",
    "    pages={pages},\n",
    "    year={year},\n",
    "    }\n"
   ]
  },
  {
   "cell_type": "code",
   "execution_count": 29,
   "id": "70871b15-19db-4677-91c3-bd5f65ddf096",
   "metadata": {},
   "outputs": [
    {
     "name": "stdout",
     "output_type": "stream",
     "text": [
      "title? y\n",
      "author? e\n",
      "journal? s\n",
      "volume? s\n",
      "pages? i\n",
      "year? r\n",
      "keyword? nope\n",
      "pathname of a .bib file? fudge.bib\n"
     ]
    }
   ],
   "source": [
    "def bibeditor():\n",
    "    listorequires =     [\"title\",\"author\",\"journal\",\"volume\",\"pages\",\"year\",\"keyword\",\"pathname of a .bib file\"]\n",
    "    inputdict = {}\n",
    "    for elem in listorequires:\n",
    "        x = input(elem+\"?\")\n",
    "        inputdict[elem] = x\n",
    "\n",
    "    writtenfile = open(inputdict[\"pathname of a .bib file\"],\"a\")\n",
    "    writtenfile.write(\"@article{\"+inputdict[\"keyword\"]+ \",\\n\")\n",
    "    \n",
    "    for elem in listorequires:\n",
    "        if elem != \"pathname of a .bib file\" and elem != \"keyword\":\n",
    "            writtenfile.write(elem+\"=\"+'\"'+inputdict[elem]+'\",\\n')\n",
    "    writtenfile.write(\"}\\n\")\n",
    "    \n",
    "bibeditor()"
   ]
  },
  {
   "cell_type": "markdown",
   "id": "5d07c569",
   "metadata": {},
   "source": [
    "Write a script that, when executed in a directory, deletes all files in the directory whose extensions are not in [‘.tex’, ‘.pdf’]."
   ]
  },
  {
   "cell_type": "code",
   "execution_count": null,
   "id": "f3e50834-1836-4dea-b561-c912f3ffe82b",
   "metadata": {},
   "outputs": [],
   "source": [
    "#import os\n",
    "### you'd need to create a .py with this and the above line (uncommented ofc)\n",
    "dirlist = os.listdir()\n",
    "for element in dirlist:\n",
    "    if \".tex\" in element:\n",
    "        pass\n",
    "    elif \".pdf\" in element:\n",
    "        pass\n",
    "    else:\n",
    "        os.remove(element)\n"
   ]
  }
 ],
 "metadata": {
  "kernelspec": {
   "display_name": "Python 3 (ipykernel)",
   "language": "python",
   "name": "python3"
  },
  "language_info": {
   "codemirror_mode": {
    "name": "ipython",
    "version": 3
   },
   "file_extension": ".py",
   "mimetype": "text/x-python",
   "name": "python",
   "nbconvert_exporter": "python",
   "pygments_lexer": "ipython3",
   "version": "3.10.11"
  }
 },
 "nbformat": 4,
 "nbformat_minor": 5
}
