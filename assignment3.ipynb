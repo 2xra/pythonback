{
 "cells": [
  {
   "cell_type": "code",
   "execution_count": 23,
   "metadata": {},
   "outputs": [],
   "source": [
    "import pandas as pd\n",
    "dfcrsp = pd.read_csv(\"crsp_sample.csv\")\n",
    "#preload\n",
    "dfann = pd.read_csv(\"announcements_sample.csv\")"
   ]
  },
  {
   "cell_type": "code",
   "execution_count": 24,
   "metadata": {},
   "outputs": [
    {
     "name": "stdout",
     "output_type": "stream",
     "text": [
      "   Unnamed: 0  permno        date       ret  shrcd       price            me\n",
      "0           0   10026  2021-01-29 -0.017442     11  152.660004  2.897487e+06\n",
      "1           1   10026  2021-02-26  0.039958     11  158.759995  3.013265e+06\n",
      "2           2   10026  2021-03-31 -0.007275     11  157.029999  2.988909e+06\n",
      "3           3   10026  2021-04-30  0.048271     11  164.610001  3.133516e+06\n",
      "4           4   10026  2021-05-28  0.066642     11  175.580002  3.342341e+06\n",
      "   Unnamed: 0        date fiscal_period  permno  gics_6d  ret_ex_3d  \\\n",
      "0          64  2021-01-25    2020-12-31   10026   302020   0.085726   \n",
      "1          65  2021-04-26    2021-03-31   10026   302020  -0.040383   \n",
      "2          66  2021-07-26    2021-06-30   10026   302020   0.005235   \n",
      "3          67  2021-11-15    2021-09-30   10026   302020  -0.015813   \n",
      "4         123  2021-01-20    2020-12-31   10032   452030  -0.072586   \n",
      "\n",
      "   date_diff  doy_diff  \n",
      "0          0        -2  \n",
      "1          0        -2  \n",
      "2          0        -2  \n",
      "3          7         9  \n",
      "4          0        -2  \n"
     ]
    }
   ],
   "source": [
    "print(dfcrsp.head())\n",
    "print(dfann.head())\n"
   ]
  },
  {
   "cell_type": "markdown",
   "metadata": {},
   "source": [
    "1) How many stock-months (rows) are there in the crsp dataframe? How many stock-quarters (rows) are there in announcements.csv?\n"
   ]
  },
  {
   "cell_type": "code",
   "execution_count": 25,
   "metadata": {},
   "outputs": [
    {
     "name": "stdout",
     "output_type": "stream",
     "text": [
      "104664 is how many stock months there are\n",
      "9146 is how many stock quarters we have\n"
     ]
    }
   ],
   "source": [
    "print(dfcrsp.shape[0].__str__()+\" is how many stock months there are\")\n",
    "#gives how many rows are in the df for crsp\n",
    "print(dfann.shape[0].__str__()+\" is how many stock quarters we have\")\n"
   ]
  },
  {
   "cell_type": "markdown",
   "metadata": {},
   "source": [
    "2) How many unique permnos are there in the announcements dataframe? Hint: there is a “unique” method. Use “len” also."
   ]
  },
  {
   "cell_type": "code",
   "execution_count": 26,
   "metadata": {},
   "outputs": [
    {
     "name": "stdout",
     "output_type": "stream",
     "text": [
      "2509\n",
      "there are 2509 unique permnos\n"
     ]
    }
   ],
   "source": [
    "num_unique_entries = dfann[\"permno\"].nunique()\n",
    "\n",
    "print(num_unique_entries)\n",
    "# separate version that Kerry probably wrote.\n",
    "print('there are '+len(dfann['permno'].unique()).__str__()+\" unique permnos\")"
   ]
  },
  {
   "cell_type": "markdown",
   "metadata": {},
   "source": [
    "3)    Create a “quarter” column in the announcements dataframe based on the fiscal_period column."
   ]
  },
  {
   "cell_type": "code",
   "execution_count": 27,
   "metadata": {},
   "outputs": [
    {
     "data": {
      "text/plain": [
       "0     2021Q1\n",
       "1     2021Q2\n",
       "2     2021Q3\n",
       "3     2021Q4\n",
       "4     2021Q1\n",
       "5     2021Q2\n",
       "6     2021Q3\n",
       "7     2021Q4\n",
       "8     2021Q1\n",
       "9     2021Q2\n",
       "10    2021Q3\n",
       "11    2021Q4\n",
       "12    2021Q1\n",
       "13    2021Q2\n",
       "14    2021Q3\n",
       "15    2021Q4\n",
       "16    2021Q1\n",
       "17    2021Q2\n",
       "18    2021Q3\n",
       "19    2021Q4\n",
       "20    2021Q1\n",
       "21    2021Q2\n",
       "22    2021Q3\n",
       "23    2021Q4\n",
       "24    2021Q1\n",
       "25    2021Q2\n",
       "26    2021Q3\n",
       "27    2021Q4\n",
       "28    2021Q1\n",
       "29    2021Q2\n",
       "Name: Quarter, dtype: period[Q-DEC]"
      ]
     },
     "execution_count": 27,
     "metadata": {},
     "output_type": "execute_result"
    }
   ],
   "source": [
    "\n",
    "\n",
    "dfann['Quarter'] = pd.to_datetime(dfann['date']).dt.to_period('Q')\n",
    "dfann['Quarter'].head(30)\n",
    "\n"
   ]
  },
  {
   "cell_type": "markdown",
   "metadata": {},
   "source": [
    "4) Create a “quarter” column in the crsp dataframe based on the date column."
   ]
  },
  {
   "cell_type": "code",
   "execution_count": 28,
   "metadata": {},
   "outputs": [
    {
     "name": "stdout",
     "output_type": "stream",
     "text": [
      "0     2021Q1\n",
      "1     2021Q1\n",
      "2     2021Q1\n",
      "3     2021Q2\n",
      "4     2021Q2\n",
      "5     2021Q2\n",
      "6     2021Q3\n",
      "7     2021Q3\n",
      "8     2021Q3\n",
      "9     2021Q4\n",
      "10    2021Q4\n",
      "11    2021Q4\n",
      "12    2021Q1\n",
      "13    2021Q1\n",
      "14    2021Q1\n",
      "15    2021Q2\n",
      "16    2021Q2\n",
      "17    2021Q2\n",
      "18    2021Q3\n",
      "19    2021Q3\n",
      "20    2021Q3\n",
      "21    2021Q4\n",
      "22    2021Q4\n",
      "23    2021Q4\n",
      "24    2021Q1\n",
      "25    2021Q1\n",
      "26    2021Q1\n",
      "27    2021Q2\n",
      "28    2021Q2\n",
      "29    2021Q2\n",
      "Name: Quarter, dtype: period[Q-DEC]\n"
     ]
    }
   ],
   "source": [
    "dfcrsp['Quarter'] = pd.to_datetime(dfcrsp['date']).dt.to_period('Q')\n",
    "\n",
    "#prep code for next part\n",
    "\n",
    "#dfcrsp['Year'] = pd.to_datetime(dfcrsp['date']).dt.year\n",
    "print(dfcrsp['Quarter'].head(30))\n",
    "\n",
    "#print(dfcrsp['Year'].head(30))"
   ]
  },
  {
   "cell_type": "markdown",
   "metadata": {},
   "source": [
    "5)Extract the last day of each quarter for each permno in the crsp dataframe. Hint: use groupby and .last()."
   ]
  },
  {
   "cell_type": "code",
   "execution_count": 29,
   "metadata": {},
   "outputs": [
    {
     "name": "stdout",
     "output_type": "stream",
     "text": [
      "<class 'pandas.core.frame.DataFrame'>\n",
      "MultiIndex: 35597 entries, (10026, Period('2021Q1', 'Q-DEC')) to (93436, Period('2021Q4', 'Q-DEC'))\n",
      "Data columns (total 6 columns):\n",
      " #   Column      Non-Null Count  Dtype  \n",
      "---  ------      --------------  -----  \n",
      " 0   Unnamed: 0  35597 non-null  int64  \n",
      " 1   date        35597 non-null  object \n",
      " 2   ret         34855 non-null  float64\n",
      " 3   shrcd       35597 non-null  int64  \n",
      " 4   price       35507 non-null  float64\n",
      " 5   me          35597 non-null  float64\n",
      "dtypes: float64(3), int64(2), object(1)\n",
      "memory usage: 1.8+ MB\n"
     ]
    }
   ],
   "source": [
    "lastdayquarter = dfcrsp.groupby(['permno','Quarter']).last()\n",
    "lastdayquarter.info()"
   ]
  },
  {
   "cell_type": "markdown",
   "metadata": {},
   "source": [
    "6)Change the name of the ‘date’ column in the announcements dataframe to ‘ea_date’. This is the date of the firm’s quarterly earnings announcement. Hint: pass a dictionary as columns = {‘old name’: ‘new name’} to the rename method."
   ]
  },
  {
   "cell_type": "code",
   "execution_count": 30,
   "metadata": {},
   "outputs": [
    {
     "data": {
      "text/html": [
       "<div>\n",
       "<style scoped>\n",
       "    .dataframe tbody tr th:only-of-type {\n",
       "        vertical-align: middle;\n",
       "    }\n",
       "\n",
       "    .dataframe tbody tr th {\n",
       "        vertical-align: top;\n",
       "    }\n",
       "\n",
       "    .dataframe thead th {\n",
       "        text-align: right;\n",
       "    }\n",
       "</style>\n",
       "<table border=\"1\" class=\"dataframe\">\n",
       "  <thead>\n",
       "    <tr style=\"text-align: right;\">\n",
       "      <th></th>\n",
       "      <th>Unnamed: 0</th>\n",
       "      <th>ea_date</th>\n",
       "      <th>fiscal_period</th>\n",
       "      <th>permno</th>\n",
       "      <th>gics_6d</th>\n",
       "      <th>ret_ex_3d</th>\n",
       "      <th>date_diff</th>\n",
       "      <th>doy_diff</th>\n",
       "      <th>Quarter</th>\n",
       "    </tr>\n",
       "  </thead>\n",
       "  <tbody>\n",
       "    <tr>\n",
       "      <th>0</th>\n",
       "      <td>64</td>\n",
       "      <td>2021-01-25</td>\n",
       "      <td>2020-12-31</td>\n",
       "      <td>10026</td>\n",
       "      <td>302020</td>\n",
       "      <td>0.085726</td>\n",
       "      <td>0</td>\n",
       "      <td>-2</td>\n",
       "      <td>2021Q1</td>\n",
       "    </tr>\n",
       "    <tr>\n",
       "      <th>1</th>\n",
       "      <td>65</td>\n",
       "      <td>2021-04-26</td>\n",
       "      <td>2021-03-31</td>\n",
       "      <td>10026</td>\n",
       "      <td>302020</td>\n",
       "      <td>-0.040383</td>\n",
       "      <td>0</td>\n",
       "      <td>-2</td>\n",
       "      <td>2021Q2</td>\n",
       "    </tr>\n",
       "    <tr>\n",
       "      <th>2</th>\n",
       "      <td>66</td>\n",
       "      <td>2021-07-26</td>\n",
       "      <td>2021-06-30</td>\n",
       "      <td>10026</td>\n",
       "      <td>302020</td>\n",
       "      <td>0.005235</td>\n",
       "      <td>0</td>\n",
       "      <td>-2</td>\n",
       "      <td>2021Q3</td>\n",
       "    </tr>\n",
       "    <tr>\n",
       "      <th>3</th>\n",
       "      <td>67</td>\n",
       "      <td>2021-11-15</td>\n",
       "      <td>2021-09-30</td>\n",
       "      <td>10026</td>\n",
       "      <td>302020</td>\n",
       "      <td>-0.015813</td>\n",
       "      <td>7</td>\n",
       "      <td>9</td>\n",
       "      <td>2021Q4</td>\n",
       "    </tr>\n",
       "    <tr>\n",
       "      <th>4</th>\n",
       "      <td>123</td>\n",
       "      <td>2021-01-20</td>\n",
       "      <td>2020-12-31</td>\n",
       "      <td>10032</td>\n",
       "      <td>452030</td>\n",
       "      <td>-0.072586</td>\n",
       "      <td>0</td>\n",
       "      <td>-2</td>\n",
       "      <td>2021Q1</td>\n",
       "    </tr>\n",
       "  </tbody>\n",
       "</table>\n",
       "</div>"
      ],
      "text/plain": [
       "   Unnamed: 0     ea_date fiscal_period  permno  gics_6d  ret_ex_3d  \\\n",
       "0          64  2021-01-25    2020-12-31   10026   302020   0.085726   \n",
       "1          65  2021-04-26    2021-03-31   10026   302020  -0.040383   \n",
       "2          66  2021-07-26    2021-06-30   10026   302020   0.005235   \n",
       "3          67  2021-11-15    2021-09-30   10026   302020  -0.015813   \n",
       "4         123  2021-01-20    2020-12-31   10032   452030  -0.072586   \n",
       "\n",
       "   date_diff  doy_diff Quarter  \n",
       "0          0        -2  2021Q1  \n",
       "1          0        -2  2021Q2  \n",
       "2          0        -2  2021Q3  \n",
       "3          7         9  2021Q4  \n",
       "4          0        -2  2021Q1  "
      ]
     },
     "execution_count": 30,
     "metadata": {},
     "output_type": "execute_result"
    }
   ],
   "source": [
    "dfann = dfann.rename(columns={'date':'ea_date'})\n",
    "dfann.head()"
   ]
  },
  {
   "cell_type": "markdown",
   "metadata": {},
   "source": [
    "7)    Merge the reduced crsp dataframe with the announcement dataframe, matching on [‘permno’, ‘quarter’]. Hint: permno and quarter will form the index of the reduced crsp dataframe after grouping. You will need to reset the index or use left_on=… and right_index=True, or right_on=… and left_index=True in the merge.\n"
   ]
  },
  {
   "cell_type": "code",
   "execution_count": 31,
   "metadata": {},
   "outputs": [
    {
     "name": "stdout",
     "output_type": "stream",
     "text": [
      "<class 'pandas.core.frame.DataFrame'>\n",
      "RangeIndex: 9146 entries, 0 to 9145\n",
      "Data columns (total 15 columns):\n",
      " #   Column         Non-Null Count  Dtype        \n",
      "---  ------         --------------  -----        \n",
      " 0   permno         9146 non-null   int64        \n",
      " 1   Quarter        9146 non-null   period[Q-DEC]\n",
      " 2   Unnamed: 0_x   9137 non-null   float64      \n",
      " 3   date           9137 non-null   object       \n",
      " 4   ret            9136 non-null   float64      \n",
      " 5   shrcd          9137 non-null   float64      \n",
      " 6   price          9136 non-null   float64      \n",
      " 7   me             9137 non-null   float64      \n",
      " 8   Unnamed: 0_y   9146 non-null   int64        \n",
      " 9   ea_date        9146 non-null   object       \n",
      " 10  fiscal_period  9146 non-null   object       \n",
      " 11  gics_6d        9146 non-null   int64        \n",
      " 12  ret_ex_3d      9115 non-null   float64      \n",
      " 13  date_diff      9146 non-null   int64        \n",
      " 14  doy_diff       9146 non-null   int64        \n",
      "dtypes: float64(6), int64(5), object(3), period[Q-DEC](1)\n",
      "memory usage: 1.0+ MB\n"
     ]
    }
   ],
   "source": [
    "mergedf = lastdayquarter.merge(dfann, on=['permno', 'Quarter'], how='right')\n",
    "\n",
    "mergedf.head()\n",
    "mergedf.info()"
   ]
  },
  {
   "cell_type": "markdown",
   "metadata": {},
   "source": [
    "8)    Filter the merged dataframe to keep only rows satisfying price>=5, me>=50000, and shrcd in [10, 11]. Save this as a csv file with the name merged.csv and submit on Canvas. Use the filtered dataframe to answer all remaining questions.\n"
   ]
  },
  {
   "cell_type": "code",
   "execution_count": 32,
   "metadata": {},
   "outputs": [
    {
     "name": "stdout",
     "output_type": "stream",
     "text": [
      "<class 'pandas.core.frame.DataFrame'>\n",
      "Index: 6838 entries, 0 to 9145\n",
      "Data columns (total 15 columns):\n",
      " #   Column         Non-Null Count  Dtype        \n",
      "---  ------         --------------  -----        \n",
      " 0   permno         6838 non-null   int64        \n",
      " 1   Quarter        6838 non-null   period[Q-DEC]\n",
      " 2   Unnamed: 0_x   6838 non-null   float64      \n",
      " 3   date           6838 non-null   object       \n",
      " 4   ret            6838 non-null   float64      \n",
      " 5   shrcd          6838 non-null   float64      \n",
      " 6   price          6838 non-null   float64      \n",
      " 7   me             6838 non-null   float64      \n",
      " 8   Unnamed: 0_y   6838 non-null   int64        \n",
      " 9   ea_date        6838 non-null   object       \n",
      " 10  fiscal_period  6838 non-null   object       \n",
      " 11  gics_6d        6838 non-null   int64        \n",
      " 12  ret_ex_3d      6830 non-null   float64      \n",
      " 13  date_diff      6838 non-null   int64        \n",
      " 14  doy_diff       6838 non-null   int64        \n",
      "dtypes: float64(6), int64(5), object(3), period[Q-DEC](1)\n",
      "memory usage: 854.8+ KB\n"
     ]
    }
   ],
   "source": [
    "# Define conditions for dropping rows\n",
    "condition_A = mergedf['price'] >= 5\n",
    "condition_B = mergedf['me'] >= 50000\n",
    "condition_C = mergedf['shrcd'].isin([10, 11])\n",
    "\n",
    "# Create a combined boolean mask to drop rows\n",
    "combined_condition = condition_A & condition_B & condition_C\n",
    "\n",
    "# Drop rows that meet the specified conditions\n",
    "df_filtered = mergedf[combined_condition]\n",
    "df_filtered.to_csv(\"merged.csv\")\n",
    "df_filtered.info()"
   ]
  },
  {
   "cell_type": "markdown",
   "metadata": {},
   "source": [
    "9)    How many stock-quarters are there in the filtered dataframe and how many unique permnos?"
   ]
  },
  {
   "cell_type": "code",
   "execution_count": 33,
   "metadata": {},
   "outputs": [
    {
     "name": "stdout",
     "output_type": "stream",
     "text": [
      "6838 is how many stock quarters there are\n",
      "there are 1853 unique permnos\n"
     ]
    }
   ],
   "source": [
    "print(df_filtered.shape[0].__str__()+\" is how many stock quarters there are\")\n",
    "\n",
    "# separate version that Kerry probably wrote.\n",
    "                                     \n",
    "\n",
    "print('there are '+len(df_filtered['permno'].unique()).__str__()+\" unique permnos\")\n",
    "from datetime import datetime\n"
   ]
  },
  {
   "cell_type": "markdown",
   "metadata": {},
   "source": [
    "10)    Which day of the week is the most popular day for earnings announcements?\n",
    "What fraction of earnings announcements occur on this day?\n",
    " Hint: the weekday method of a datetime object returns 0 for Monday, 1 for Tuesday, etc."
   ]
  },
  {
   "cell_type": "code",
   "execution_count": 34,
   "metadata": {},
   "outputs": [
    {
     "name": "stdout",
     "output_type": "stream",
     "text": [
      "weekday\n",
      "Thursday     2357\n",
      "Wednesday    1793\n",
      "Tuesday      1425\n",
      "Monday        836\n",
      "Friday        427\n",
      "Name: count, dtype: int64\n",
      "the total amount of days is 6838 Thursday accounts for 34.47% of all announcements\n"
     ]
    },
    {
     "name": "stderr",
     "output_type": "stream",
     "text": [
      "C:\\Users\\rra3\\AppData\\Local\\Temp\\ipykernel_5560\\1114864487.py:1: SettingWithCopyWarning: \n",
      "A value is trying to be set on a copy of a slice from a DataFrame.\n",
      "Try using .loc[row_indexer,col_indexer] = value instead\n",
      "\n",
      "See the caveats in the documentation: https://pandas.pydata.org/pandas-docs/stable/user_guide/indexing.html#returning-a-view-versus-a-copy\n",
      "  df_filtered['ea_date'] = pd.to_datetime(df_filtered['ea_date'])\n",
      "C:\\Users\\rra3\\AppData\\Local\\Temp\\ipykernel_5560\\1114864487.py:2: SettingWithCopyWarning: \n",
      "A value is trying to be set on a copy of a slice from a DataFrame.\n",
      "Try using .loc[row_indexer,col_indexer] = value instead\n",
      "\n",
      "See the caveats in the documentation: https://pandas.pydata.org/pandas-docs/stable/user_guide/indexing.html#returning-a-view-versus-a-copy\n",
      "  df_filtered.loc[:,'weekday']=df_filtered['ea_date'].dt.day_name()\n"
     ]
    }
   ],
   "source": [
    "df_filtered['ea_date'] = pd.to_datetime(df_filtered['ea_date'])\n",
    "df_filtered.loc[:,'weekday']=df_filtered['ea_date'].dt.day_name()\n",
    "daycounts = df_filtered['weekday'].value_counts()\n",
    "print(daycounts)\n",
    "maxfrac = daycounts.max()/daycounts.sum()\n",
    "print(\"the total amount of days is \"+daycounts.sum().__str__()+\" Thursday accounts for \" + (maxfrac.__round__(4)*100).__str__()+\"% of all announcements\")\n"
   ]
  },
  {
   "cell_type": "markdown",
   "metadata": {},
   "source": [
    "\n",
    "11)    For each permno, find the most popular day of the week for earnings announcements. For each permno, calculate the fraction of the announcements that are made on that day. Save this as a csv file with the name days.csv and submit on Canvas. What is the mean of this fraction across permnos?"
   ]
  },
  {
   "cell_type": "code",
   "execution_count": 35,
   "metadata": {},
   "outputs": [
    {
     "name": "stdout",
     "output_type": "stream",
     "text": [
      "The mean of this fraction across permnos is 0.7800413743479043.\n"
     ]
    }
   ],
   "source": [
    "import numpy as np\n",
    "counters2 = df_filtered.groupby(['permno', 'weekday']).size().reset_index(name='count')\n",
    "most_popular_weekday_df = counters2.loc[counters2.groupby('permno')['count'].idxmax()].reset_index(drop=True)\n",
    "total_announcements_per_permno = df_filtered.groupby('permno').size().reset_index(name='total_count')\n",
    "most_popular_weekday_df = pd.merge(most_popular_weekday_df, total_announcements_per_permno, on='permno')\n",
    "most_popular_weekday_df['fraction'] = most_popular_weekday_df['count'] / most_popular_weekday_df['total_count']\n",
    "final_dataset = pd.merge(df_filtered, most_popular_weekday_df[['permno', 'weekday', 'fraction']], on='permno', how='left')\n",
    "final_dataset = final_dataset.rename(columns={\"weekday_x\": \"weekday\", \"weekday_y\": \"most_popular_weekday\", \"fraction\": \"fraction_on_most_popular_weekday\"})\n",
    "df_filtered.to_csv(\"days.csv\")\n",
    "# The mean of this fraction across 'permno': \n",
    "\n",
    "#mean_fraction_per_permno = final_dataset.groupby('fraction_on_most_popular_weekday').mean()\n",
    "mean_fraction_per_permno = final_dataset.groupby('permno')['fraction_on_most_popular_weekday'].mean()\n",
    "mean_of_means = mean_fraction_per_permno.mean()\n",
    "print(f'The mean of this fraction across permnos is {np.mean(mean_of_means)}.')"
   ]
  },
  {
   "cell_type": "markdown",
   "metadata": {},
   "source": [
    " 12)   Cut the dataframe into ‘above median’ and ‘below median’ based on the absolute value of date_diff. What is the mean of the fraction in the previous queston across permnos within each of the two groups?"
   ]
  },
  {
   "cell_type": "code",
   "execution_count": 36,
   "metadata": {},
   "outputs": [
    {
     "name": "stdout",
     "output_type": "stream",
     "text": [
      "For the below median group, the mean fraction is approximately 77.8%.\n",
      "For the above median group, the mean fraction is approximately 75.0%.\n"
     ]
    },
    {
     "name": "stderr",
     "output_type": "stream",
     "text": [
      "C:\\Users\\rra3\\AppData\\Local\\Temp\\ipykernel_5560\\2537444102.py:4: FutureWarning: The default of observed=False is deprecated and will be changed to True in a future version of pandas. Pass observed=False to retain current behavior or observed=True to adopt the future default and silence this warning.\n",
      "  AboveBelow = days_df.groupby(['permno','quantile_group']).fraction_on_most_popular_weekday.mean().unstack('permno').T\n"
     ]
    }
   ],
   "source": [
    "days_df=final_dataset\n",
    "\n",
    "days_df['quantile_group'] = pd.qcut(days_df['date_diff'].abs(), 2, labels=['below_median', 'above_median'])\n",
    "AboveBelow = days_df.groupby(['permno','quantile_group']).fraction_on_most_popular_weekday.mean().unstack('permno').T\n",
    "below = AboveBelow['below_median'].mean().__round__(3)*100\n",
    "above = AboveBelow['above_median'].mean().__round__(3)*100\n",
    "print(f'For the below median group, the mean fraction is approximately {below}%.')\n",
    "print(f'For the above median group, the mean fraction is approximately {above}%.')"
   ]
  },
  {
   "cell_type": "markdown",
   "metadata": {},
   "source": [
    "13)    For each permno, calculate the fraction of zeros for date_diff."
   ]
  },
  {
   "cell_type": "code",
   "execution_count": 37,
   "metadata": {},
   "outputs": [],
   "source": [
    "grouped_df = days_df.groupby('permno').date_diff.apply(lambda x: (x == 0).sum() / len(x)).reset_index()\n",
    "grouped_df.columns = ['permno', 'fraction_of_zeros']\n",
    "merged_df = pd.merge(days_df, grouped_df, on='permno', how='left')"
   ]
  },
  {
   "cell_type": "markdown",
   "metadata": {},
   "source": [
    "\n",
    "14)    Filter the dataframe further to include only stock-quarters for which\n",
    "\n",
    "        the fraction of zeros for date_diff is less than 0.5\n",
    "\n",
    "        the fraction of announcements on the permno’s most popular day of the week is less than 0.9."
   ]
  },
  {
   "cell_type": "code",
   "execution_count": 40,
   "metadata": {},
   "outputs": [],
   "source": [
    "condition14=(merged_df['fraction_of_zeros']<0.5)&(merged_df['fraction_on_most_popular_weekday']<0.9)\n",
    "df_uglyconditional=merged_df[condition14]\n",
    "df_uglyconditional['fraction_of_zeros'].describe()\n",
    "df_uglyconditional['fraction_on_most_popular_weekday'].describe()\n",
    "\n",
    "df_uglyconditional.to_csv(\"filtered.csv\")\n"
   ]
  },
  {
   "cell_type": "markdown",
   "metadata": {},
   "source": [
    "15) Save this as a csv file with the name filtered.csv and submit on Canvas.\n",
    "\n",
    "    How many stock-quarters are in the newly filtered dataframe? How many unique permnos?"
   ]
  },
  {
   "cell_type": "code",
   "execution_count": 39,
   "metadata": {},
   "outputs": [
    {
     "name": "stdout",
     "output_type": "stream",
     "text": [
      "2227 is how many stock quarters there are\n",
      "there are 591 unique permnos\n"
     ]
    }
   ],
   "source": [
    "print(df_uglyconditional.shape[0].__str__()+\" is how many stock quarters there are\")\n",
    "\n",
    "# separate version that Kerry probably wrote.\n",
    "                                     \n",
    "\n",
    "print('there are '+len(df_uglyconditional['permno'].unique()).__str__()+\" unique permnos\")\n"
   ]
  }
 ],
 "metadata": {
  "kernelspec": {
   "display_name": ".venv",
   "language": "python",
   "name": "python3"
  },
  "language_info": {
   "codemirror_mode": {
    "name": "ipython",
    "version": 3
   },
   "file_extension": ".py",
   "mimetype": "text/x-python",
   "name": "python",
   "nbconvert_exporter": "python",
   "pygments_lexer": "ipython3",
   "version": "3.10.11"
  },
  "orig_nbformat": 4
 },
 "nbformat": 4,
 "nbformat_minor": 2
}
