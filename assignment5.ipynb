{
 "cells": [
  {
   "cell_type": "code",
   "execution_count": null,
   "metadata": {},
   "outputs": [],
   "source": [
    "import pandas as pd"
   ]
  },
  {
   "cell_type": "markdown",
   "metadata": {},
   "source": [
    "Create a function that takes a 2x2 game as an input and returns a list of the pure strategy Nash equilibria. If there are no pure strategy equilibria, then it should return an empty list. It should accept a game input as a 2x2 array of tuples, the first element of the tuple being the utility of the row player and the second element being the utility of the column player. Here is an example of a game that it should accept as its input:\n",
    "\n",
    "game = [\n",
    "    [(5, 0), (5, 5)],\n",
    "    [(5, 2), (0, 0)]\n",
    "]"
   ]
  },
  {
   "cell_type": "code",
   "execution_count": null,
   "metadata": {},
   "outputs": [],
   "source": [
    "def solver(game):\n",
    "\n",
    "    print()\n",
    "\n",
    "\n",
    "\n",
    "\n",
    "\n",
    "inputgame = [\n",
    "    [(5, 0), (5, 5)],\n",
    "    [(5, 2), (0, 0)]\n",
    "]"
   ]
  },
  {
   "cell_type": "markdown",
   "metadata": {},
   "source": [
    "The following function accepts as its input a 2x2 array of tuples and returns a list. Move the code outside the function, create an example 2x2 array and execute the code line by line. Display in your notebook the object created by each line and explain what it is and what operation was performed to create it."
   ]
  },
  {
   "cell_type": "code",
   "execution_count": null,
   "metadata": {},
   "outputs": [],
   "source": [
    "g = pd.DataFrame(\n",
    "        game, \n",
    "        index = [\"T\", \"B\"],\n",
    "        columns = [\"L\", \"R\"]\n",
    "    )"
   ]
  },
  {
   "cell_type": "code",
   "execution_count": null,
   "metadata": {},
   "outputs": [],
   "source": [
    "g = g.unstack()"
   ]
  },
  {
   "cell_type": "code",
   "execution_count": null,
   "metadata": {},
   "outputs": [],
   "source": [
    "g.index.names = [\"col\", \"row\"]"
   ]
  },
  {
   "cell_type": "code",
   "execution_count": null,
   "metadata": {},
   "outputs": [],
   "source": [
    "g = pd.concat(\n",
    "    (\n",
    "            g.map(lambda x: x[0]), \n",
    "            g.map(lambda x: x[1])\n",
    "        ), \n",
    "        axis=1\n",
    "    )"
   ]
  },
  {
   "cell_type": "code",
   "execution_count": null,
   "metadata": {},
   "outputs": [],
   "source": [
    "    g.columns = [\"u1\", \"u2\"]"
   ]
  },
  {
   "cell_type": "code",
   "execution_count": null,
   "metadata": {},
   "outputs": [],
   "source": [
    "    g.index = g.index.swaplevel()"
   ]
  },
  {
   "cell_type": "code",
   "execution_count": null,
   "metadata": {},
   "outputs": [],
   "source": [
    "\n",
    "    row_max = g.groupby(\"col\").apply(\n",
    "        lambda x: x[x.u1 == x.u1.max()].index.values\n",
    "    )"
   ]
  },
  {
   "cell_type": "code",
   "execution_count": null,
   "metadata": {},
   "outputs": [],
   "source": [
    "    row_max = [x for arr in row_max for x in arr]"
   ]
  },
  {
   "cell_type": "code",
   "execution_count": null,
   "metadata": {},
   "outputs": [],
   "source": [
    "    col_max = g.groupby(\"row\").apply(\n",
    "        lambda x: x[x.u2 == x.u2.max()].index.values\n",
    "    )"
   ]
  },
  {
   "cell_type": "code",
   "execution_count": null,
   "metadata": {},
   "outputs": [],
   "source": [
    "\n",
    "    col_max = [x for arr in col_max for x in arr]"
   ]
  },
  {
   "cell_type": "code",
   "execution_count": null,
   "metadata": {},
   "outputs": [],
   "source": [
    "    return list(set(col_max) & set(row_max))"
   ]
  },
  {
   "cell_type": "markdown",
   "metadata": {},
   "source": [
    "The knapsack problem is as follows. There are objects that you might put in your knapsack (backpack). Each has a weight Wi and a value Ui. Your knapsack can only hold a total weight of W. Among the combinations of objects that have a combined weight no more than W, you want to choose the combination that has the maximum total value. Denote your decision about whether to include the i-th object as ai in {0,1}, with meaning put it in the knapsack. So, the problem is to choose the to maximize ai subject to \\sigma i  to n ai*Ui subject to the sum ai\\*Ui<=W . We can write this as a nonstationary finite dynamic programming problem by supposing that we first consider object 1 (at “time 1”) then move on to consider object 2 (at “time 2”), etc. Denote the weight in the knapsack prior to making the i-th decision by xi. Denote the total value of the objects in the knapsack prior to making the i-th decison by yi. The pair (xi,yi) serves as the state vector for the problem. Write code to (1) calculate the value function Vn(x,y) before making the N-th decison by maximizing the ending value y +aun subject to the constraints imposed by x, and (2) use the recursion vi(x,y)=mx a in {0,1} vi+1(x+awi, y+aui) subject to x +awi<=W\n",
    "to compute V1(0,0), which is the maximum total value the knapsack can hold."
   ]
  },
  {
   "cell_type": "code",
   "execution_count": 6,
   "metadata": {},
   "outputs": [
    {
     "name": "stdout",
     "output_type": "stream",
     "text": [
      "my code says do I can carry 7 value units of crap\n",
      "\n",
      "Maximum Value: 7\n"
     ]
    }
   ],
   "source": [
    "def itemsort(Wi):\n",
    "    return(Wi[1]/Wi[0])\n",
    "    \n",
    "\n",
    "\n",
    "def knapsacksolve(capacity,items):\n",
    "    #I originally planned to solve this analytically by sorting the items on value per weight unit\n",
    "    #items.sort(reverse=True,key=itemsort)\n",
    "\n",
    "    def this_is_self_referencing(index, capac):\n",
    "        \n",
    "        if index<0 or capac <=0:\n",
    "            return 0\n",
    "        \n",
    "        if items[index][0] > capac:\n",
    "            return this_is_self_referencing(index-1,capac)\n",
    "        \n",
    "        include_this_crap = items[index][1] + this_is_self_referencing(index-1,capac-items[index][0])\n",
    "        dont_bring_this_crap = this_is_self_referencing(index-1,capac)\n",
    "\n",
    "        return(max(include_this_crap,dont_bring_this_crap))\n",
    "        \n",
    "\n",
    "    n = len(items)\n",
    "    maxval = this_is_self_referencing(n-1,capacity)\n",
    "    return(maxval)\n",
    "\n",
    "\n",
    "#format of tuples is weight, then utils\n",
    "\n",
    "allmycrapforclass = [(2,3),(3,4),(4,5),(5,6)]\n",
    "Weight = 5\n",
    "print('my code says do I can carry '+knapsacksolve(Weight,allmycrapforclass).__str__()+\" value units of crap\")\n",
    "\n",
    "\n",
    "\n",
    "\n",
    "\n",
    "#GPT did it better\n",
    "def knapsack_recursive(weights, values, capacity):\n",
    "    def recursive_helper(i, current_capacity):\n",
    "        if i < 0 or current_capacity <= 0:\n",
    "            return 0\n",
    "        \n",
    "        # If the current item's weight is greater than the current capacity, skip it\n",
    "        if weights[i] > current_capacity:\n",
    "            return recursive_helper(i - 1, current_capacity)\n",
    "        \n",
    "        # Include the current item or exclude it, and choose the maximum value\n",
    "        include_current = values[i] + recursive_helper(i - 1, current_capacity - weights[i])\n",
    "        exclude_current = recursive_helper(i - 1, current_capacity)\n",
    "        \n",
    "        return max(include_current, exclude_current)\n",
    "    \n",
    "    n = len(weights)\n",
    "    max_value = recursive_helper(n - 1, capacity)\n",
    "    return max_value\n",
    "\n",
    "# Example usage:\n",
    "weights = [2, 3, 4, 5]\n",
    "values = [3, 4, 5, 6]\n",
    "capacity = 5\n",
    "max_value = knapsack_recursive(weights, values, capacity)\n",
    "print(\"Maximum Value:\", max_value)\n"
   ]
  }
 ],
 "metadata": {
  "kernelspec": {
   "display_name": "Python 3",
   "language": "python",
   "name": "python3"
  },
  "language_info": {
   "codemirror_mode": {
    "name": "ipython",
    "version": 3
   },
   "file_extension": ".py",
   "mimetype": "text/x-python",
   "name": "python",
   "nbconvert_exporter": "python",
   "pygments_lexer": "ipython3",
   "version": "3.10.11"
  },
  "orig_nbformat": 4
 },
 "nbformat": 4,
 "nbformat_minor": 2
}
