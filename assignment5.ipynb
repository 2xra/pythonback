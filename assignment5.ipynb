{
 "cells": [
  {
   "cell_type": "code",
   "execution_count": 24,
   "metadata": {},
   "outputs": [],
   "source": [
    "import pandas as pd"
   ]
  },
  {
   "cell_type": "markdown",
   "metadata": {},
   "source": [
    "Create a function that takes a 2x2 game as an input and returns a list of the pure strategy Nash equilibria. If there are no pure strategy equilibria, then it should return an empty list. It should accept a game input as a 2x2 array of tuples, the first element of the tuple being the utility of the row player and the second element being the utility of the column player. Here is an example of a game that it should accept as its input:\n",
    "\n",
    "game = [\n",
    "    [(5, 0), (5, 5)],\n",
    "    [(5, 2), (0, 0)]\n",
    "]"
   ]
  },
  {
   "cell_type": "code",
   "execution_count": 7,
   "metadata": {},
   "outputs": [
    {
     "name": "stdout",
     "output_type": "stream",
     "text": [
      "player one can take action 0 and player 2 can take action 1 and this is a pure strategy equilibrium\n",
      "player one can take action 1 and player 2 can take action 0 and this is a pure strategy equilibrium\n"
     ]
    }
   ],
   "source": [
    "import numpy as np\n",
    "\n",
    "\n",
    "\n",
    "def checker(a1,a2,carr):\n",
    "    utils1 = carr[a1][a2][0]\n",
    "    utils2 = carr[a1][a2][1]\n",
    "    for elem in carr[a1]:\n",
    "        if utils2 < elem[1]:\n",
    "            \n",
    "            return()\n",
    "    for elem in carr:\n",
    "        if utils1 < elem[a2][0]:\n",
    "            return()\n",
    "            \n",
    "\n",
    "    print(\"player one can take action \"+a1.__str__()+\" and player 2 can take action \"+a2.__str__()+\" and this is a pure strategy equilibrium\")\n",
    "\n",
    "\n",
    "    \n",
    "\n",
    "\n",
    "\n",
    "\n",
    "\n",
    "\n",
    "game = [\n",
    "    [(5, 0), (5, 5)],\n",
    "    [(5, 2), (0, 0)]\n",
    "]\n",
    "\n",
    "payoffs = np.array(game)\n",
    "\n",
    "index = [0,1]\n",
    "\n",
    "for p1 in index:\n",
    "    for p2 in index:\n",
    "        checker(p1,p2,payoffs)\n"
   ]
  },
  {
   "cell_type": "markdown",
   "metadata": {},
   "source": [
    "The following function accepts as its input a 2x2 array of tuples and returns a list. Move the code outside the function, create an example 2x2 array and execute the code line by line. Display in your notebook the object created by each line and explain what it is and what operation was performed to create it."
   ]
  },
  {
   "cell_type": "code",
   "execution_count": 40,
   "metadata": {},
   "outputs": [
    {
     "data": {
      "text/html": [
       "<div>\n",
       "<style scoped>\n",
       "    .dataframe tbody tr th:only-of-type {\n",
       "        vertical-align: middle;\n",
       "    }\n",
       "\n",
       "    .dataframe tbody tr th {\n",
       "        vertical-align: top;\n",
       "    }\n",
       "\n",
       "    .dataframe thead th {\n",
       "        text-align: right;\n",
       "    }\n",
       "</style>\n",
       "<table border=\"1\" class=\"dataframe\">\n",
       "  <thead>\n",
       "    <tr style=\"text-align: right;\">\n",
       "      <th></th>\n",
       "      <th>L</th>\n",
       "      <th>R</th>\n",
       "    </tr>\n",
       "  </thead>\n",
       "  <tbody>\n",
       "    <tr>\n",
       "      <th>T</th>\n",
       "      <td>(5, 0)</td>\n",
       "      <td>(5, 5)</td>\n",
       "    </tr>\n",
       "    <tr>\n",
       "      <th>B</th>\n",
       "      <td>(5, 2)</td>\n",
       "      <td>(0, 0)</td>\n",
       "    </tr>\n",
       "  </tbody>\n",
       "</table>\n",
       "</div>"
      ],
      "text/plain": [
       "        L       R\n",
       "T  (5, 0)  (5, 5)\n",
       "B  (5, 2)  (0, 0)"
      ]
     },
     "execution_count": 40,
     "metadata": {},
     "output_type": "execute_result"
    }
   ],
   "source": [
    "g = pd.DataFrame(\n",
    "        game, \n",
    "        index = [\"T\", \"B\"],\n",
    "        columns = [\"L\", \"R\"]\n",
    "    )\n",
    "g"
   ]
  },
  {
   "cell_type": "markdown",
   "metadata": {},
   "source": [
    "this creates a dataframe that contains the tuples of utilities by action chosen."
   ]
  },
  {
   "cell_type": "code",
   "execution_count": 27,
   "metadata": {},
   "outputs": [
    {
     "data": {
      "text/plain": [
       "L  T    (5, 0)\n",
       "   B    (5, 2)\n",
       "R  T    (5, 5)\n",
       "   B    (0, 0)\n",
       "dtype: object"
      ]
     },
     "execution_count": 27,
     "metadata": {},
     "output_type": "execute_result"
    }
   ],
   "source": [
    "g = g.unstack()\n",
    "g"
   ]
  },
  {
   "cell_type": "markdown",
   "metadata": {},
   "source": [
    "this separates the columns into groups of data"
   ]
  },
  {
   "cell_type": "code",
   "execution_count": 28,
   "metadata": {},
   "outputs": [
    {
     "data": {
      "text/plain": [
       "col  row\n",
       "L    T      (5, 0)\n",
       "     B      (5, 2)\n",
       "R    T      (5, 5)\n",
       "     B      (0, 0)\n",
       "dtype: object"
      ]
     },
     "execution_count": 28,
     "metadata": {},
     "output_type": "execute_result"
    }
   ],
   "source": [
    "g.index.names = [\"col\", \"row\"]\n",
    "g"
   ]
  },
  {
   "cell_type": "markdown",
   "metadata": {},
   "source": [
    "renames the index names as col and row which are to indicate the player who's playing those actions\n"
   ]
  },
  {
   "cell_type": "code",
   "execution_count": 29,
   "metadata": {},
   "outputs": [
    {
     "data": {
      "text/html": [
       "<div>\n",
       "<style scoped>\n",
       "    .dataframe tbody tr th:only-of-type {\n",
       "        vertical-align: middle;\n",
       "    }\n",
       "\n",
       "    .dataframe tbody tr th {\n",
       "        vertical-align: top;\n",
       "    }\n",
       "\n",
       "    .dataframe thead th {\n",
       "        text-align: right;\n",
       "    }\n",
       "</style>\n",
       "<table border=\"1\" class=\"dataframe\">\n",
       "  <thead>\n",
       "    <tr style=\"text-align: right;\">\n",
       "      <th></th>\n",
       "      <th></th>\n",
       "      <th>0</th>\n",
       "      <th>1</th>\n",
       "    </tr>\n",
       "    <tr>\n",
       "      <th>col</th>\n",
       "      <th>row</th>\n",
       "      <th></th>\n",
       "      <th></th>\n",
       "    </tr>\n",
       "  </thead>\n",
       "  <tbody>\n",
       "    <tr>\n",
       "      <th rowspan=\"2\" valign=\"top\">L</th>\n",
       "      <th>T</th>\n",
       "      <td>5</td>\n",
       "      <td>0</td>\n",
       "    </tr>\n",
       "    <tr>\n",
       "      <th>B</th>\n",
       "      <td>5</td>\n",
       "      <td>2</td>\n",
       "    </tr>\n",
       "    <tr>\n",
       "      <th rowspan=\"2\" valign=\"top\">R</th>\n",
       "      <th>T</th>\n",
       "      <td>5</td>\n",
       "      <td>5</td>\n",
       "    </tr>\n",
       "    <tr>\n",
       "      <th>B</th>\n",
       "      <td>0</td>\n",
       "      <td>0</td>\n",
       "    </tr>\n",
       "  </tbody>\n",
       "</table>\n",
       "</div>"
      ],
      "text/plain": [
       "         0  1\n",
       "col row      \n",
       "L   T    5  0\n",
       "    B    5  2\n",
       "R   T    5  5\n",
       "    B    0  0"
      ]
     },
     "execution_count": 29,
     "metadata": {},
     "output_type": "execute_result"
    }
   ],
   "source": [
    "g = pd.concat(\n",
    "    (\n",
    "            g.map(lambda x: x[0]), \n",
    "            g.map(lambda x: x[1])\n",
    "        ), \n",
    "        axis=1\n",
    "    )\n",
    "g"
   ]
  },
  {
   "cell_type": "markdown",
   "metadata": {},
   "source": [
    "this applys a mapping to split the tuples of utility into two separate columns"
   ]
  },
  {
   "cell_type": "code",
   "execution_count": 30,
   "metadata": {},
   "outputs": [
    {
     "data": {
      "text/html": [
       "<div>\n",
       "<style scoped>\n",
       "    .dataframe tbody tr th:only-of-type {\n",
       "        vertical-align: middle;\n",
       "    }\n",
       "\n",
       "    .dataframe tbody tr th {\n",
       "        vertical-align: top;\n",
       "    }\n",
       "\n",
       "    .dataframe thead th {\n",
       "        text-align: right;\n",
       "    }\n",
       "</style>\n",
       "<table border=\"1\" class=\"dataframe\">\n",
       "  <thead>\n",
       "    <tr style=\"text-align: right;\">\n",
       "      <th></th>\n",
       "      <th></th>\n",
       "      <th>u1</th>\n",
       "      <th>u2</th>\n",
       "    </tr>\n",
       "    <tr>\n",
       "      <th>col</th>\n",
       "      <th>row</th>\n",
       "      <th></th>\n",
       "      <th></th>\n",
       "    </tr>\n",
       "  </thead>\n",
       "  <tbody>\n",
       "    <tr>\n",
       "      <th rowspan=\"2\" valign=\"top\">L</th>\n",
       "      <th>T</th>\n",
       "      <td>5</td>\n",
       "      <td>0</td>\n",
       "    </tr>\n",
       "    <tr>\n",
       "      <th>B</th>\n",
       "      <td>5</td>\n",
       "      <td>2</td>\n",
       "    </tr>\n",
       "    <tr>\n",
       "      <th rowspan=\"2\" valign=\"top\">R</th>\n",
       "      <th>T</th>\n",
       "      <td>5</td>\n",
       "      <td>5</td>\n",
       "    </tr>\n",
       "    <tr>\n",
       "      <th>B</th>\n",
       "      <td>0</td>\n",
       "      <td>0</td>\n",
       "    </tr>\n",
       "  </tbody>\n",
       "</table>\n",
       "</div>"
      ],
      "text/plain": [
       "         u1  u2\n",
       "col row        \n",
       "L   T     5   0\n",
       "    B     5   2\n",
       "R   T     5   5\n",
       "    B     0   0"
      ]
     },
     "execution_count": 30,
     "metadata": {},
     "output_type": "execute_result"
    }
   ],
   "source": [
    "g.columns = [\"u1\", \"u2\"]\n",
    "g"
   ]
  },
  {
   "cell_type": "markdown",
   "metadata": {},
   "source": [
    "this relabels the new columns into utilities of 1 and 2"
   ]
  },
  {
   "cell_type": "code",
   "execution_count": 31,
   "metadata": {},
   "outputs": [
    {
     "data": {
      "text/html": [
       "<div>\n",
       "<style scoped>\n",
       "    .dataframe tbody tr th:only-of-type {\n",
       "        vertical-align: middle;\n",
       "    }\n",
       "\n",
       "    .dataframe tbody tr th {\n",
       "        vertical-align: top;\n",
       "    }\n",
       "\n",
       "    .dataframe thead th {\n",
       "        text-align: right;\n",
       "    }\n",
       "</style>\n",
       "<table border=\"1\" class=\"dataframe\">\n",
       "  <thead>\n",
       "    <tr style=\"text-align: right;\">\n",
       "      <th></th>\n",
       "      <th></th>\n",
       "      <th>u1</th>\n",
       "      <th>u2</th>\n",
       "    </tr>\n",
       "    <tr>\n",
       "      <th>row</th>\n",
       "      <th>col</th>\n",
       "      <th></th>\n",
       "      <th></th>\n",
       "    </tr>\n",
       "  </thead>\n",
       "  <tbody>\n",
       "    <tr>\n",
       "      <th>T</th>\n",
       "      <th>L</th>\n",
       "      <td>5</td>\n",
       "      <td>0</td>\n",
       "    </tr>\n",
       "    <tr>\n",
       "      <th>B</th>\n",
       "      <th>L</th>\n",
       "      <td>5</td>\n",
       "      <td>2</td>\n",
       "    </tr>\n",
       "    <tr>\n",
       "      <th>T</th>\n",
       "      <th>R</th>\n",
       "      <td>5</td>\n",
       "      <td>5</td>\n",
       "    </tr>\n",
       "    <tr>\n",
       "      <th>B</th>\n",
       "      <th>R</th>\n",
       "      <td>0</td>\n",
       "      <td>0</td>\n",
       "    </tr>\n",
       "  </tbody>\n",
       "</table>\n",
       "</div>"
      ],
      "text/plain": [
       "         u1  u2\n",
       "row col        \n",
       "T   L     5   0\n",
       "B   L     5   2\n",
       "T   R     5   5\n",
       "B   R     0   0"
      ]
     },
     "execution_count": 31,
     "metadata": {},
     "output_type": "execute_result"
    }
   ],
   "source": [
    "g.index = g.index.swaplevel()\n",
    "g"
   ]
  },
  {
   "cell_type": "markdown",
   "metadata": {},
   "source": [
    "this swaps row and column in the index groups."
   ]
  },
  {
   "cell_type": "code",
   "execution_count": 32,
   "metadata": {},
   "outputs": [
    {
     "data": {
      "text/plain": [
       "col\n",
       "L    [(T, L), (B, L)]\n",
       "R            [(T, R)]\n",
       "dtype: object"
      ]
     },
     "execution_count": 32,
     "metadata": {},
     "output_type": "execute_result"
    }
   ],
   "source": [
    "\n",
    "row_max = g.groupby(\"col\").apply(\n",
    "        lambda x: x[x.u1 == x.u1.max()].index.values\n",
    "    )\n",
    "row_max"
   ]
  },
  {
   "cell_type": "markdown",
   "metadata": {},
   "source": [
    "this creates a dataframe (I think?)  that contains list objects of the strategies that provide the highest utility in response to the strategies of the column player"
   ]
  },
  {
   "cell_type": "code",
   "execution_count": 33,
   "metadata": {},
   "outputs": [
    {
     "data": {
      "text/plain": [
       "[('T', 'L'), ('B', 'L'), ('T', 'R')]"
      ]
     },
     "execution_count": 33,
     "metadata": {},
     "output_type": "execute_result"
    }
   ],
   "source": [
    "row_max = [x for arr in row_max for x in arr]\n",
    "row_max"
   ]
  },
  {
   "cell_type": "markdown",
   "metadata": {},
   "source": [
    "this converts the arrays in each row of the above dataframe into a single list of the pairs."
   ]
  },
  {
   "cell_type": "code",
   "execution_count": 34,
   "metadata": {},
   "outputs": [
    {
     "data": {
      "text/plain": [
       "row\n",
       "B    [(B, L)]\n",
       "T    [(T, R)]\n",
       "dtype: object"
      ]
     },
     "execution_count": 34,
     "metadata": {},
     "output_type": "execute_result"
    }
   ],
   "source": [
    "col_max = g.groupby(\"row\").apply(\n",
    "        lambda x: x[x.u2 == x.u2.max()].index.values\n",
    "    )\n",
    "col_max\n"
   ]
  },
  {
   "cell_type": "markdown",
   "metadata": {},
   "source": [
    "this creates a dataframe (I think?)  that contains list objects of the strategies that provide the highest utility in response to the strategies of the row player."
   ]
  },
  {
   "cell_type": "code",
   "execution_count": 35,
   "metadata": {},
   "outputs": [
    {
     "data": {
      "text/plain": [
       "[('B', 'L'), ('T', 'R')]"
      ]
     },
     "execution_count": 35,
     "metadata": {},
     "output_type": "execute_result"
    }
   ],
   "source": [
    "col_max = [x for arr in col_max for x in arr]\n",
    "col_max"
   ]
  },
  {
   "cell_type": "markdown",
   "metadata": {},
   "source": [
    "this converts the arrays in each row of the above dataframe into a single list of the pairs."
   ]
  },
  {
   "cell_type": "code",
   "execution_count": 36,
   "metadata": {},
   "outputs": [
    {
     "data": {
      "text/plain": [
       "[('B', 'L'), ('T', 'R')]"
      ]
     },
     "execution_count": 36,
     "metadata": {},
     "output_type": "execute_result"
    }
   ],
   "source": [
    "list(set(col_max) & set(row_max))\n"
   ]
  },
  {
   "cell_type": "markdown",
   "metadata": {},
   "source": [
    "this lists the overlap of the two sets of optimal strategies for each player, thus the optimal pure strategies"
   ]
  },
  {
   "cell_type": "markdown",
   "metadata": {},
   "source": [
    "The knapsack problem is as follows. There are objects that you might put in your knapsack (backpack). Each has a weight Wi and a value Ui. Your knapsack can only hold a total weight of W. Among the combinations of objects that have a combined weight no more than W, you want to choose the combination that has the maximum total value. Denote your decision about whether to include the i-th object as ai in {0,1}, with meaning put it in the knapsack. So, the problem is to choose the to maximize ai subject to \\sigma i  to n ai*Ui subject to the sum ai\\*Ui<=W . We can write this as a nonstationary finite dynamic programming problem by supposing that we first consider object 1 (at “time 1”) then move on to consider object 2 (at “time 2”), etc. Denote the weight in the knapsack prior to making the i-th decision by xi. Denote the total value of the objects in the knapsack prior to making the i-th decison by yi. The pair (xi,yi) serves as the state vector for the problem. Write code to (1) calculate the value function Vn(x,y) before making the N-th decison by maximizing the ending value y +aun subject to the constraints imposed by x, and (2) use the recursion vi(x,y)=mx a in {0,1} vi+1(x+awi, y+aui) subject to x +awi<=W\n",
    "to compute V1(0,0), which is the maximum total value the knapsack can hold."
   ]
  },
  {
   "cell_type": "code",
   "execution_count": 37,
   "metadata": {},
   "outputs": [
    {
     "name": "stdout",
     "output_type": "stream",
     "text": [
      "my code says do I can carry 7 value units of crap\n",
      "Maximum Value: 7\n"
     ]
    }
   ],
   "source": [
    "def itemsort(Wi):\n",
    "    return(Wi[1]/Wi[0])\n",
    "    \n",
    "\n",
    "\n",
    "def knapsacksolve(capacity,items):\n",
    "    #I originally planned to solve this analytically by sorting the items on value per weight unit\n",
    "    #items.sort(reverse=True,key=itemsort)\n",
    "\n",
    "    def this_is_self_referencing(index, capac):\n",
    "        \n",
    "        if index<0 or capac <=0:\n",
    "            return 0\n",
    "        \n",
    "        if items[index][0] > capac:\n",
    "            return this_is_self_referencing(index-1,capac)\n",
    "        \n",
    "        include_this_crap = items[index][1] + this_is_self_referencing(index-1,capac-items[index][0])\n",
    "        dont_bring_this_crap = this_is_self_referencing(index-1,capac)\n",
    "\n",
    "        return(max(include_this_crap,dont_bring_this_crap))\n",
    "        \n",
    "\n",
    "    n = len(items)\n",
    "    maxval = this_is_self_referencing(n-1,capacity)\n",
    "    return(maxval)\n",
    "\n",
    "\n",
    "#format of tuples is weight, then utils\n",
    "\n",
    "allmycrapforclass = [(2,3),(3,4),(4,5),(5,6)]\n",
    "Weight = 5\n",
    "print('my code says do I can carry '+knapsacksolve(Weight,allmycrapforclass).__str__()+\" value units of crap\")\n",
    "\n",
    "\n",
    "\n",
    "\n",
    "\n",
    "#GPT did it better\n",
    "def knapsack_recursive(weights, values, capacity):\n",
    "    def recursive_helper(i, current_capacity):\n",
    "        if i < 0 or current_capacity <= 0:\n",
    "            return 0\n",
    "        \n",
    "        # If the current item's weight is greater than the current capacity, skip it\n",
    "        if weights[i] > current_capacity:\n",
    "            return recursive_helper(i - 1, current_capacity)\n",
    "        \n",
    "        # Include the current item or exclude it, and choose the maximum value\n",
    "        include_current = values[i] + recursive_helper(i - 1, current_capacity - weights[i])\n",
    "        exclude_current = recursive_helper(i - 1, current_capacity)\n",
    "        \n",
    "        return max(include_current, exclude_current)\n",
    "    \n",
    "    n = len(weights)\n",
    "    max_value = recursive_helper(n - 1, capacity)\n",
    "    return max_value\n",
    "\n",
    "# Example usage:\n",
    "weights = [2, 3, 4, 5]\n",
    "values = [3, 4, 5, 6]\n",
    "capacity = 5\n",
    "max_value = knapsack_recursive(weights, values, capacity)\n",
    "print(\"Maximum Value:\", max_value)\n"
   ]
  }
 ],
 "metadata": {
  "kernelspec": {
   "display_name": "Python 3",
   "language": "python",
   "name": "python3"
  },
  "language_info": {
   "codemirror_mode": {
    "name": "ipython",
    "version": 3
   },
   "file_extension": ".py",
   "mimetype": "text/x-python",
   "name": "python",
   "nbconvert_exporter": "python",
   "pygments_lexer": "ipython3",
   "version": "3.10.11"
  },
  "orig_nbformat": 4
 },
 "nbformat": 4,
 "nbformat_minor": 2
}
