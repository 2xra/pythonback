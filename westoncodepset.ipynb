{
 "cells": [
  {
   "cell_type": "code",
   "execution_count": null,
   "metadata": {},
   "outputs": [],
   "source": [
    "import numpy as np\n",
    "import statsmodel.api as sm\n",
    "\n",
    "# Set the number of steps and simulations\n",
    "num_steps = 100\n",
    "num_simulations = 1000\n",
    "\n",
    "# Create an array to store terminal values\n",
    "terminal_values = np.zeros(num_simulations)\n",
    "\n",
    "# Perform simulations\n",
    "for i in range(num_simulations):\n",
    "    # Generate standard normal innovations for each step\n",
    "    innovations = np.random.standard_normal(num_steps)\n",
    "    \n",
    "    # Calculate the cumulative sum to simulate the random walk\n",
    "    random_walk = np.cumsum(innovations)\n",
    "    \n",
    "    # Store the terminal value after 100 steps\n",
    "    terminal_values[i] = random_walk[-1]\n",
    "\n",
    "# Calculate mean, median, and standard deviation of terminal values\n",
    "mean_terminal = np.mean(terminal_values)\n",
    "median_terminal = np.median(terminal_values)\n",
    "std_dev_terminal = np.std(terminal_values)\n",
    "\n",
    "# Print the results\n",
    "print(f\"GPT Says : Mean of terminal values: {mean_terminal:.4f}\")\n",
    "print(f\"GPT Says : Median of terminal values: {median_terminal:.4f}\")\n",
    "print(f\"GPT Says : Standard Deviation of terminal values: {std_dev_terminal:.4f}\")"
   ]
  }
 ],
 "metadata": {
  "language_info": {
   "name": "python"
  },
  "orig_nbformat": 4
 },
 "nbformat": 4,
 "nbformat_minor": 2
}
